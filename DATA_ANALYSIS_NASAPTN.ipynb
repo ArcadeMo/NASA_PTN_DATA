{
 "cells": [
  {
   "cell_type": "code",
   "execution_count": null,
   "id": "2a37d8e1-6c87-4108-a8f2-172d9cacf905",
   "metadata": {},
   "outputs": [],
   "source": []
  }
 ],
 "metadata": {
  "kernelspec": {
   "display_name": "R",
   "language": "R",
   "name": "ir"
  },
  "language_info": {
   "codemirror_mode": "r",
   "file_extension": ".r",
   "mimetype": "text/x-r-source",
   "name": "R",
   "pygments_lexer": "r",
   "version": "4.1.0"
  }
 },
 "nbformat": 4,
 "nbformat_minor": 5
}
